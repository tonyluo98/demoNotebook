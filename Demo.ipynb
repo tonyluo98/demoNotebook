{
 "cells": [
  {
   "cell_type": "markdown",
   "metadata": {},
   "source": [
    "# Mixing Paint: \n",
    "\n",
    "This notebook will demonstrate the result of mixing different colour paints to get a different colour paint\n",
    "Many Colours will be tested, but firstly, we will start with primary colour mixing"
   ]
  },
  {
   "cell_type": "markdown",
   "metadata": {},
   "source": [
    "Import library to access FAIRDOM"
   ]
  },
  {
   "cell_type": "code",
   "execution_count": 1,
   "metadata": {},
   "outputs": [],
   "source": [
    "import seek_library as s \n",
    "x= s.SEEK()"
   ]
  },
  {
   "cell_type": "markdown",
   "metadata": {},
   "source": [
    "Investigation about Temperature Effects\n",
    "Taken from FAIRDOM\n",
    "\n",
    "Will be useful to see if it will affect our investigation!"
   ]
  },
  {
   "cell_type": "markdown",
   "metadata": {},
   "source": [
    "# NEW Investigation download\n",
    "\n",
    "View investigation 289"
   ]
  },
  {
   "cell_type": "code",
   "execution_count": null,
   "metadata": {},
   "outputs": [],
   "source": [
    "x.query()"
   ]
  },
  {
   "cell_type": "code",
   "execution_count": null,
   "metadata": {},
   "outputs": [],
   "source": [
    "x.search()"
   ]
  },
  {
   "cell_type": "markdown",
   "metadata": {},
   "source": [
    "# Lets investigate Biomass of leaves\n",
    "\n",
    "This is data file 2222 on the fairdom website \n",
    "This will help us access and locate a data file for us to compare\n"
   ]
  },
  {
   "cell_type": "code",
   "execution_count": null,
   "metadata": {},
   "outputs": [],
   "source": [
    "x.query()"
   ]
  },
  {
   "cell_type": "markdown",
   "metadata": {},
   "source": [
    "Login to access our files on the FAIRDOM website for use in this assay"
   ]
  },
  {
   "cell_type": "code",
   "execution_count": 2,
   "metadata": {},
   "outputs": [
    {
     "name": "stdout",
     "output_type": "stream",
     "text": [
      "Username:tonyluo\n",
      "Password········\n"
     ]
    }
   ],
   "source": [
    "x.auth()"
   ]
  },
  {
   "cell_type": "markdown",
   "metadata": {},
   "source": [
    "Now we need to change the webbsite we are accessing our data from\n",
    "This is for demo purposes only and not for the actual project. \n",
    "A sandbox (replica of the FAIRDOM) is used to prevent me from overpopulating a data base / deleting important data"
   ]
  },
  {
   "cell_type": "code",
   "execution_count": 3,
   "metadata": {},
   "outputs": [
    {
     "name": "stdout",
     "output_type": "stream",
     "text": [
      "1: https://www.fairdomhub.org\n",
      "2: https://sandbox3.fairdomhub.org\n",
      "Please choose url 1 or 2:\n",
      "2\n",
      "You entered 2\n"
     ]
    }
   ],
   "source": [
    "x.change_url()"
   ]
  },
  {
   "cell_type": "markdown",
   "metadata": {},
   "source": [
    "Investigation 16 \n",
    "\n",
    "Study 10"
   ]
  },
  {
   "cell_type": "code",
   "execution_count": null,
   "metadata": {},
   "outputs": [],
   "source": [
    "x.query()"
   ]
  },
  {
   "cell_type": "markdown",
   "metadata": {},
   "source": [
    "assay type : 'http://jermontology.org/ontology/JERMOntology#Metabolomics'\n",
    "\n",
    "tech Type  : 'http://jermontology.org/ontology/JERMOntology#Electrophoresis'"
   ]
  },
  {
   "cell_type": "code",
   "execution_count": null,
   "metadata": {
    "scrolled": false
   },
   "outputs": [],
   "source": [
    "x.post()"
   ]
  },
  {
   "cell_type": "code",
   "execution_count": null,
   "metadata": {},
   "outputs": [],
   "source": [
    "x.query()"
   ]
  },
  {
   "cell_type": "markdown",
   "metadata": {},
   "source": [
    "Would like to update and make a new link but also change description\n",
    "\n",
    "link to data :\n",
    "https://www.google.com/search?q=orange&tbm=isch&source=iu&ictx=1&fir=Y3zUF7GtiQ-OyM%253A%252CAyIHPgC6DFoJ_M%252C_&vet=1&usg=AI4_-kSgYnZsu6-osniaHQLpa42cN7ih1Q&sa=X&ved=2ahUKEwjn1_2FoIToAhX_SxUIHQ0oD_wQ9QEwBXoECAYQOA#imgrc=Y3zUF7GtiQ-OyM:\n",
    "\n",
    "Jupyter notebook link :\n",
    "https://github.com/tonyluo98/SEEK-project/blob/master/Demo.ipynb\n"
   ]
  },
  {
   "cell_type": "code",
   "execution_count": 4,
   "metadata": {},
   "outputs": [
    {
     "data": {
      "application/vnd.jupyter.widget-view+json": {
       "model_id": "f3fdeff498714ab18a442d12ce57d132",
       "version_major": 2,
       "version_minor": 0
      },
      "text/plain": [
       "Tab(children=(VBox(children=(Dropdown(description='Create :', options=('Investigation', 'Study', 'Assay', 'Dat…"
      ]
     },
     "metadata": {},
     "output_type": "display_data"
    },
    {
     "data": {
      "application/vnd.jupyter.widget-view+json": {
       "model_id": "5cc829538abf4d58933974322cb7bdc6",
       "version_major": 2,
       "version_minor": 0
      },
      "text/plain": [
       "Tab(children=(VBox(children=(Accordion(children=(VBox(children=(Text(value='', description='Title :', layout=L…"
      ]
     },
     "metadata": {},
     "output_type": "display_data"
    }
   ],
   "source": [
    "x.post()"
   ]
  }
 ],
 "metadata": {
  "kernelspec": {
   "display_name": "Python 3",
   "language": "python",
   "name": "python3"
  },
  "language_info": {
   "codemirror_mode": {
    "name": "ipython",
    "version": 3
   },
   "file_extension": ".py",
   "mimetype": "text/x-python",
   "name": "python",
   "nbconvert_exporter": "python",
   "pygments_lexer": "ipython3",
   "version": "3.6.9"
  }
 },
 "nbformat": 4,
 "nbformat_minor": 1
}
